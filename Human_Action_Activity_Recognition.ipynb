{
  "nbformat": 4,
  "nbformat_minor": 0,
  "metadata": {
    "colab": {
      "provenance": [],
      "authorship_tag": "ABX9TyNS3KS5o48cvhJm2U5t2fCb",
      "include_colab_link": true
    },
    "kernelspec": {
      "name": "python3",
      "display_name": "Python 3"
    },
    "language_info": {
      "name": "python"
    }
  },
  "cells": [
    {
      "cell_type": "markdown",
      "metadata": {
        "id": "view-in-github",
        "colab_type": "text"
      },
      "source": [
        "<a href=\"https://colab.research.google.com/github/kashish049/Human-Action-Activity-Recognition/blob/main/Human_Action_Activity_Recognition.ipynb\" target=\"_parent\"><img src=\"https://colab.research.google.com/assets/colab-badge.svg\" alt=\"Open In Colab\"/></a>"
      ]
    },
    {
      "cell_type": "code",
      "execution_count": 1,
      "metadata": {
        "colab": {
          "base_uri": "https://localhost:8080/"
        },
        "id": "KplhJIDxbcDd",
        "outputId": "ec11de6c-05d9-4322-c5c1-ad8979952414"
      },
      "outputs": [
        {
          "output_type": "stream",
          "name": "stdout",
          "text": [
            "Cloning into 'LSTM-Human-Activity-Recognition'...\n",
            "remote: Enumerating objects: 117, done.\u001b[K\n",
            "remote: Counting objects: 100% (18/18), done.\u001b[K\n",
            "remote: Compressing objects: 100% (15/15), done.\u001b[K\n",
            "remote: Total 117 (delta 9), reused 9 (delta 3), pack-reused 99 (from 1)\u001b[K\n",
            "Receiving objects: 100% (117/117), 1.41 MiB | 19.75 MiB/s, done.\n",
            "Resolving deltas: 100% (49/49), done.\n"
          ]
        }
      ],
      "source": [
        "!git clone https://github.com/guillaume-chevalier/LSTM-Human-Activity-Recognition.git\n"
      ]
    },
    {
      "cell_type": "code",
      "source": [
        "%cd LSTM-Human-Activity-Recognition\n"
      ],
      "metadata": {
        "colab": {
          "base_uri": "https://localhost:8080/"
        },
        "id": "Oj9XqgSIcbL3",
        "outputId": "bf1fd7a5-8040-49b7-b0c4-33fc4f5db9f0"
      },
      "execution_count": 2,
      "outputs": [
        {
          "output_type": "stream",
          "name": "stdout",
          "text": [
            "/content/LSTM-Human-Activity-Recognition\n"
          ]
        }
      ]
    }
  ]
}